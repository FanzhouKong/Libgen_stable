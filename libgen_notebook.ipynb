{
 "cells": [
  {
   "cell_type": "code",
   "execution_count": 1,
   "outputs": [],
   "source": [
    "import os\n",
    "import pandas as pd\n",
    "from tqdm import tqdm\n",
    "import numpy as np\n",
    "%load_ext autoreload\n",
    "%autoreload 2"
   ],
   "metadata": {
    "collapsed": false,
    "pycharm": {
     "name": "#%%\n"
    }
   }
  },
  {
   "cell_type": "markdown",
   "source": [
    "# step 0 define workingspace"
   ],
   "metadata": {
    "collapsed": false,
    "pycharm": {
     "name": "#%% md\n"
    }
   }
  },
  {
   "cell_type": "code",
   "execution_count": 7,
   "outputs": [],
   "source": [
    "master_dir = '/Users/fanzhoukong/Documents/GitHub/Libgen_stable/sample_data'\n",
    "# mzml_dir, feature_dir, library_dir = setup_workspace(master_dir)\n",
    "mzml_dir = os.path.join(master_dir, 'mzml')\n",
    "feature_dir = os.path.join(master_dir, 'features')\n",
    "library_dir = os.path.join(master_dir, 'library')\n",
    "for f in [mzml_dir, feature_dir, library_dir]:\n",
    "    if os.path.exists(f)==False:\n",
    "        os.mkdir(f)\n",
    "# mzml_dir, feature_dir, library_dir = setup_workspace(master_dir)"
   ],
   "metadata": {
    "collapsed": false,
    "pycharm": {
     "name": "#%%\n"
    }
   }
  },
  {
   "cell_type": "markdown",
   "source": [
    "# step 1 prepare the standard list"
   ],
   "metadata": {
    "collapsed": false,
    "pycharm": {
     "name": "#%% md\n"
    }
   }
  },
  {
   "cell_type": "code",
   "execution_count": 12,
   "outputs": [],
   "source": [
    "from toolsets.std_list_prep import std_list_prep"
   ],
   "metadata": {
    "collapsed": false,
    "pycharm": {
     "name": "#%%\n"
    }
   }
  },
  {
   "cell_type": "code",
   "execution_count": 11,
   "outputs": [],
   "source": [
    "std_list_raw = pd.read_csv(os.path.join(master_dir, 'std_list.csv'))"
   ],
   "metadata": {
    "collapsed": false,
    "pycharm": {
     "name": "#%%\n"
    }
   }
  },
  {
   "cell_type": "code",
   "execution_count": 21,
   "outputs": [],
   "source": [
    "std_list_pos,std_list_neg = std_list_prep(std_list_raw)"
   ],
   "metadata": {
    "collapsed": false,
    "pycharm": {
     "name": "#%%\n"
    }
   }
  },
  {
   "cell_type": "code",
   "execution_count": 23,
   "outputs": [
    {
     "data": {
      "text/plain": "                      name                                             smiles   \n0                  Inosine  O=c1[nH]cnc2c1ncn2[C@@H]1O[C@H](CO)[C@@H](O)[C...  \\\n1                   Uracil                               O=c1cc[nH]c(=O)[nH]1   \n2                 Cytidine   Nc1ccn([C@@H]2O[C@H](CO)[C@@H](O)[C@H]2O)c(=O)n1   \n3             Hypoxanthine                              O=c1nc[nH]c2nc[nH]c12   \n4                Allantoin                               NC(=O)NC1NC(=O)NC1=O   \n..                     ...                                                ...   \n463             Solasodine  C[C@@H]1CC[C@@]2(NC1)O[C@H]1C[C@H]3[C@@H]4CC=C...   \n464      8-Oxoepiberberine       COc1cc2c(cc1OC)-c1cc3ccc4c(c3c(=O)n1CC2)OCO4   \n465             Cycleanine  COc1cc2c3c(c1OC)Oc1ccc(cc1)C[C@@H]1c4c(cc(OC)c...   \n466    Histamine Phosphate                                      NCCc1c[nH]cn1   \n467  Chloroquine phosphate                  CCN(CC)CCCC(C)Nc1ccnc2cc(Cl)ccc12   \n\n                     mix          rt_reference     formula   mono_mass   \n0     Alkaloids-neg-mix1               [0.547]  C10H12N4O5  268.080769  \\\n1     Alkaloids-neg-mix1               [0.356]    C4H4N2O2  112.027277   \n2     Alkaloids-neg-mix1               [0.328]   C9H13N3O5  243.085521   \n3     Alkaloids-neg-mix1  [0.36, 0.549, 0.454]     C5H4N4O  136.038511   \n4     Alkaloids-neg-mix1               [0.293]    C4H6N4O3  158.043990   \n..                   ...                   ...         ...         ...   \n463  Alkaloids-neg-mix47               [3.806]   C27H43NO2  413.329380   \n464  Alkaloids-neg-mix47               [3.862]   C20H17NO5  351.110673   \n465  Alkaloids-neg-mix47               [2.631]  C38H42N2O6  622.304287   \n466  Alkaloids-neg-mix48               [1.966]      C5H9N3  111.079647   \n467  Alkaloids-neg-mix48         [2.805, 2.98]  C18H26ClN3  319.181526   \n\n         [M-H]-     [M+Cl]-   [M+FA-H]-  [M]-  \n0    267.073493  303.050171  313.078972     0  \n1    111.020001  146.996679  157.025480     0  \n2    242.078244  278.054922  288.083723     0  \n3    135.031234  171.007912  181.036714     0  \n4    157.036714  193.013391  203.042193     0  \n..          ...         ...         ...   ...  \n463  412.322103  448.298781  458.327582     0  \n464  350.103396  386.080074  396.108876     0  \n465  621.297011  657.273688  667.302490     0  \n466  110.072371  146.049049  156.077850     0  \n467  318.174249  354.150927  364.179728     0  \n\n[468 rows x 10 columns]",
      "text/html": "<div>\n<style scoped>\n    .dataframe tbody tr th:only-of-type {\n        vertical-align: middle;\n    }\n\n    .dataframe tbody tr th {\n        vertical-align: top;\n    }\n\n    .dataframe thead th {\n        text-align: right;\n    }\n</style>\n<table border=\"1\" class=\"dataframe\">\n  <thead>\n    <tr style=\"text-align: right;\">\n      <th></th>\n      <th>name</th>\n      <th>smiles</th>\n      <th>mix</th>\n      <th>rt_reference</th>\n      <th>formula</th>\n      <th>mono_mass</th>\n      <th>[M-H]-</th>\n      <th>[M+Cl]-</th>\n      <th>[M+FA-H]-</th>\n      <th>[M]-</th>\n    </tr>\n  </thead>\n  <tbody>\n    <tr>\n      <th>0</th>\n      <td>Inosine</td>\n      <td>O=c1[nH]cnc2c1ncn2[C@@H]1O[C@H](CO)[C@@H](O)[C...</td>\n      <td>Alkaloids-neg-mix1</td>\n      <td>[0.547]</td>\n      <td>C10H12N4O5</td>\n      <td>268.080769</td>\n      <td>267.073493</td>\n      <td>303.050171</td>\n      <td>313.078972</td>\n      <td>0</td>\n    </tr>\n    <tr>\n      <th>1</th>\n      <td>Uracil</td>\n      <td>O=c1cc[nH]c(=O)[nH]1</td>\n      <td>Alkaloids-neg-mix1</td>\n      <td>[0.356]</td>\n      <td>C4H4N2O2</td>\n      <td>112.027277</td>\n      <td>111.020001</td>\n      <td>146.996679</td>\n      <td>157.025480</td>\n      <td>0</td>\n    </tr>\n    <tr>\n      <th>2</th>\n      <td>Cytidine</td>\n      <td>Nc1ccn([C@@H]2O[C@H](CO)[C@@H](O)[C@H]2O)c(=O)n1</td>\n      <td>Alkaloids-neg-mix1</td>\n      <td>[0.328]</td>\n      <td>C9H13N3O5</td>\n      <td>243.085521</td>\n      <td>242.078244</td>\n      <td>278.054922</td>\n      <td>288.083723</td>\n      <td>0</td>\n    </tr>\n    <tr>\n      <th>3</th>\n      <td>Hypoxanthine</td>\n      <td>O=c1nc[nH]c2nc[nH]c12</td>\n      <td>Alkaloids-neg-mix1</td>\n      <td>[0.36, 0.549, 0.454]</td>\n      <td>C5H4N4O</td>\n      <td>136.038511</td>\n      <td>135.031234</td>\n      <td>171.007912</td>\n      <td>181.036714</td>\n      <td>0</td>\n    </tr>\n    <tr>\n      <th>4</th>\n      <td>Allantoin</td>\n      <td>NC(=O)NC1NC(=O)NC1=O</td>\n      <td>Alkaloids-neg-mix1</td>\n      <td>[0.293]</td>\n      <td>C4H6N4O3</td>\n      <td>158.043990</td>\n      <td>157.036714</td>\n      <td>193.013391</td>\n      <td>203.042193</td>\n      <td>0</td>\n    </tr>\n    <tr>\n      <th>...</th>\n      <td>...</td>\n      <td>...</td>\n      <td>...</td>\n      <td>...</td>\n      <td>...</td>\n      <td>...</td>\n      <td>...</td>\n      <td>...</td>\n      <td>...</td>\n      <td>...</td>\n    </tr>\n    <tr>\n      <th>463</th>\n      <td>Solasodine</td>\n      <td>C[C@@H]1CC[C@@]2(NC1)O[C@H]1C[C@H]3[C@@H]4CC=C...</td>\n      <td>Alkaloids-neg-mix47</td>\n      <td>[3.806]</td>\n      <td>C27H43NO2</td>\n      <td>413.329380</td>\n      <td>412.322103</td>\n      <td>448.298781</td>\n      <td>458.327582</td>\n      <td>0</td>\n    </tr>\n    <tr>\n      <th>464</th>\n      <td>8-Oxoepiberberine</td>\n      <td>COc1cc2c(cc1OC)-c1cc3ccc4c(c3c(=O)n1CC2)OCO4</td>\n      <td>Alkaloids-neg-mix47</td>\n      <td>[3.862]</td>\n      <td>C20H17NO5</td>\n      <td>351.110673</td>\n      <td>350.103396</td>\n      <td>386.080074</td>\n      <td>396.108876</td>\n      <td>0</td>\n    </tr>\n    <tr>\n      <th>465</th>\n      <td>Cycleanine</td>\n      <td>COc1cc2c3c(c1OC)Oc1ccc(cc1)C[C@@H]1c4c(cc(OC)c...</td>\n      <td>Alkaloids-neg-mix47</td>\n      <td>[2.631]</td>\n      <td>C38H42N2O6</td>\n      <td>622.304287</td>\n      <td>621.297011</td>\n      <td>657.273688</td>\n      <td>667.302490</td>\n      <td>0</td>\n    </tr>\n    <tr>\n      <th>466</th>\n      <td>Histamine Phosphate</td>\n      <td>NCCc1c[nH]cn1</td>\n      <td>Alkaloids-neg-mix48</td>\n      <td>[1.966]</td>\n      <td>C5H9N3</td>\n      <td>111.079647</td>\n      <td>110.072371</td>\n      <td>146.049049</td>\n      <td>156.077850</td>\n      <td>0</td>\n    </tr>\n    <tr>\n      <th>467</th>\n      <td>Chloroquine phosphate</td>\n      <td>CCN(CC)CCCC(C)Nc1ccnc2cc(Cl)ccc12</td>\n      <td>Alkaloids-neg-mix48</td>\n      <td>[2.805, 2.98]</td>\n      <td>C18H26ClN3</td>\n      <td>319.181526</td>\n      <td>318.174249</td>\n      <td>354.150927</td>\n      <td>364.179728</td>\n      <td>0</td>\n    </tr>\n  </tbody>\n</table>\n<p>468 rows × 10 columns</p>\n</div>"
     },
     "execution_count": 23,
     "metadata": {},
     "output_type": "execute_result"
    }
   ],
   "source": [
    "std_list_neg"
   ],
   "metadata": {
    "collapsed": false,
    "pycharm": {
     "name": "#%%\n"
    }
   }
  },
  {
   "cell_type": "markdown",
   "source": [
    "# step 2 extract features"
   ],
   "metadata": {
    "collapsed": false,
    "pycharm": {
     "name": "#%% md\n"
    }
   }
  },
  {
   "cell_type": "code",
   "execution_count": 16,
   "outputs": [],
   "source": [
    "from toolsets.Tylos import find_feature_targeted, feature_matching, libgen_function"
   ],
   "metadata": {
    "collapsed": false,
    "pycharm": {
     "name": "#%%\n"
    }
   }
  },
  {
   "cell_type": "code",
   "execution_count": 47,
   "outputs": [
    {
     "name": "stdout",
     "output_type": "stream",
     "text": [
      "extracting features, and mapping by mzrt\n"
     ]
    },
    {
     "name": "stderr",
     "output_type": "stream",
     "text": [
      "100%|██████████| 48/48 [00:03<00:00, 13.60it/s]\n"
     ]
    },
    {
     "name": "stdout",
     "output_type": "stream",
     "text": [
      "denoising....\n"
     ]
    },
    {
     "name": "stderr",
     "output_type": "stream",
     "text": [
      "100%|██████████| 15/15 [00:00<00:00, 118.41it/s]\n"
     ]
    }
   ],
   "source": [
    "matched_high_quality,matched_all = libgen_function(std_list_pos, mzml_dir, if_QE=True)"
   ],
   "metadata": {
    "collapsed": false,
    "pycharm": {
     "name": "#%%\n"
    }
   }
  },
  {
   "cell_type": "code",
   "execution_count": 48,
   "outputs": [
    {
     "data": {
      "text/plain": "    precursor_mz  reference_mz reference_adduct               reference_name   \n0     334.107549    334.107384             [M]+          Corysamine chloride  \\\n1     274.143980    274.143770           [M+H]+     O-Desmethyl Galanthamine   \n2     274.144001    274.143770           [M+H]+     O-Desmethyl Galanthamine   \n3     204.065827    204.065520           [M+H]+    (S)-N-Glycidylphthalimide   \n4     314.138864    314.138685           [M+H]+  N-Caffeoyl O-methyltyramine   \n5     314.139038    314.138685           [M+H]+  N-Caffeoyl O-methyltyramine   \n6     336.120809    336.120629          [M+Na]+  N-Caffeoyl O-methyltyramine   \n7     244.169886    244.169591           [M+H]+                          HHQ   \n8     282.148998    282.148855           [M+H]+                   Lirinidine   \n9     282.149186    282.148855           [M+H]+                   Lirinidine   \n10    182.081307    182.081170           [M+H]+                  DL-Tyrosine   \n11    182.081333    182.081170           [M+H]+                  DL-Tyrosine   \n12    204.063259    204.063114          [M+Na]+                  DL-Tyrosine   \n13    325.191203    325.191054           [M+H]+       Viquidil hydrochloride   \n14    325.191264    325.191054           [M+H]+       Viquidil hydrochloride   \n\n   comment                                  reference_smiles   \n0    Major   Cc1c2[n+](cc3c4c(ccc13)OCO4)CCc1cc3c(cc1-2)OCO3  \\\n1    Major  CN1CC[C@@]23C=C[C@H](O)C[C@@H]2Oc2c(O)ccc(c23)C1   \n2   isomer  CN1CC[C@@]23C=C[C@H](O)C[C@@H]2Oc2c(O)ccc(c23)C1   \n3    Major                     O=C1c2ccccc2C(=O)N1C[C@H]1CO1   \n4    Major           COc1ccc(CCNC(=O)/C=C/c2ccc(O)c(O)c2)cc1   \n5   isomer           COc1ccc(CCNC(=O)/C=C/c2ccc(O)c(O)c2)cc1   \n6    Major           COc1ccc(CCNC(=O)/C=C/c2ccc(O)c(O)c2)cc1   \n7    Major                      CCCCCCCc1cc(=O)c2ccccc2[nH]1   \n8    Major           COc1cc2c3c(c1O)-c1ccccc1C[C@@H]3N(C)CC2   \n9   isomer           COc1cc2c3c(c1O)-c1ccccc1C[C@@H]3N(C)CC2   \n10   Major                            NC(Cc1ccc(O)cc1)C(=O)O   \n11  isomer                            NC(Cc1ccc(O)cc1)C(=O)O   \n12   Major                            NC(Cc1ccc(O)cc1)C(=O)O   \n13   Major      C=C[C@H]1CNCC[C@H]1CCC(=O)c1ccnc2ccc(OC)cc12   \n14  isomer      C=C[C@H]1CNCC[C@H]1CCC(=O)c1ccnc2ccc(OC)cc12   \n\n   reference_formula        reference_mix                  reference_rt   \n0         C20H16NO4+  Alkaloids-pos-mix36                        [2.65]  \\\n1          C16H19NO3  Alkaloids-pos-mix36                       [0.614]   \n2          C16H19NO3  Alkaloids-pos-mix36                       [0.614]   \n3           C11H9NO3  Alkaloids-pos-mix36  [0.349, 0.494, 1.331, 2.736]   \n4          C18H19NO4  Alkaloids-pos-mix36                       [3.295]   \n5          C18H19NO4  Alkaloids-pos-mix36                       [3.295]   \n6          C18H19NO4  Alkaloids-pos-mix36                       [3.295]   \n7           C16H21NO  Alkaloids-pos-mix36                       [3.904]   \n8          C18H19NO2  Alkaloids-pos-mix36                       [2.562]   \n9          C18H19NO2  Alkaloids-pos-mix36                       [2.562]   \n10          C9H11NO3  Alkaloids-pos-mix36                [0.348, 0.497]   \n11          C9H11NO3  Alkaloids-pos-mix36                [0.348, 0.497]   \n12          C9H11NO3  Alkaloids-pos-mix36                [0.348, 0.497]   \n13        C20H24N2O2  Alkaloids-pos-mix36                        [2.65]   \n14        C20H24N2O2  Alkaloids-pos-mix36                        [2.65]   \n\n     rt_apex  rt_start    rt_end  ms1_intensity  n_scnas      ms1_scan_range   \n0   2.929062  2.783462  3.208477   2.016058e+06       99     [621, 655, 720]  \\\n1   0.287160  0.265899  0.401500   2.217606e+08       30        [57, 62, 87]   \n2   0.497357  0.401500  1.101001   6.357372e+07      155      [87, 108, 242]   \n3   2.778339  2.731876  2.880609   1.396332e+06       35     [609, 618, 644]   \n4   3.351300  3.316474  5.209335   1.513644e+08      445    [745, 753, 1190]   \n5   3.237095  3.199917  3.316474   9.064387e+06       27     [718, 727, 745]   \n6   3.351197  3.307479  3.832477   7.224760e+06      122     [743, 753, 865]   \n7   3.968365  3.921462  5.926747   1.423948e+09      474    [885, 896, 1359]   \n8   2.618446  2.548259  3.972599   4.072063e+08      331     [566, 582, 897]   \n9   9.499718  9.381663  9.550547   4.117510e+05       40  [2173, 2202, 2213]   \n10  0.286625  0.265899  0.347276   1.136892e+09       18        [57, 62, 75]   \n11  0.428784  0.347276  1.363347   2.372578e+08      226       [75, 93, 301]   \n12  0.283446  0.265899  0.327211   4.384846e+06       14        [57, 62, 71]   \n13  2.704458  2.613884  3.363703   1.280043e+08      175     [581, 603, 756]   \n14  9.508483  9.398592  9.558124   1.229338e+06       38  [2177, 2203, 2215]   \n\n    reci_snr                                           msms_raw   \n0   0.076761  [[56.30818176269531, 2288.141357421875], [57.9...  \\\n1   0.003775  [[53.94699478149414, 96795.8984375], [54.27227...   \n2   0.015060  [[51.57713317871094, 40101.56640625], [52.0643...   \n3   0.004567  [[52.02421188354492, 2055.7265625], [52.748348...   \n4   0.001220  [[51.023555755615234, 148312.28125], [53.03898...   \n5   0.013155  [[50.909420013427734, 6878.41259765625], [53.0...   \n6   0.052365  [[66.93482971191406, 4202.83935546875], [74.23...   \n7   0.000446  [[61.03971481323242, 6524025.5], [61.043678283...   \n8   0.004043  [[54.76835632324219, 477882.65625], [54.770915...   \n9   0.020907  [[62.982261657714844, 1963.0230712890625], [77...   \n10  0.000331  [[52.19691848754883, 303031.46875], [53.039058...   \n11  0.001226  [[53.03883361816406, 197756.6875], [60.0190658...   \n12  0.006159  [[61.01840591430664, 2213.07373046875], [70.01...   \n13  0.010073  [[53.0389518737793, 98317.9140625], [54.627002...   \n14  0.000013  [[55.05463790893555, 2784.016357421875], [64.4...   \n\n                                        msms_denoised       eis  \n0   [[147.06844, 3502.8186], [183.06822, 2424.9194...  0.943289  \n1   [[55.01821, 3981169.5], [56.049965, 194752.25]...  0.987049  \n2   [[52.0644, 35199.492], [53.03904, 41803.594], ...  0.988530  \n3   [[57.033825, 12029.836], [68.04973, 1856.6376]...  0.831456  \n4   [[51.023556, 148312.28], [53.038982, 955552.75...  0.998624  \n5   [[53.039024, 35530.535], [67.00711, 6144.63], ...  0.991744  \n6   [[120.08098, 5459.9424], [336.12057, 192536.66...  0.114705  \n7   [[61.039715, 6524025.5], [61.04368, 5183808.5]...  0.984561  \n8   [[152.06248, 376667.5], [165.07005, 6857049.0]...  0.982773  \n9   [[62.98226, 1963.0231], [165.07034, 5075.481],...  0.956554  \n10  [[53.03906, 2495202.0], [65.03869, 2850189.5],...  0.993165  \n11  [[53.038834, 197756.69], [60.019066, 115246.19...  0.996808  \n12  [[61.018406, 2213.0737], [70.01548, 2452.457],...  0.460727  \n13  [[53.03895, 98317.914], [55.054478, 330577.47]...  0.996267  \n14  [[55.054638, 2784.0164], [67.05436, 11183.548]...  0.964385  ",
      "text/html": "<div>\n<style scoped>\n    .dataframe tbody tr th:only-of-type {\n        vertical-align: middle;\n    }\n\n    .dataframe tbody tr th {\n        vertical-align: top;\n    }\n\n    .dataframe thead th {\n        text-align: right;\n    }\n</style>\n<table border=\"1\" class=\"dataframe\">\n  <thead>\n    <tr style=\"text-align: right;\">\n      <th></th>\n      <th>precursor_mz</th>\n      <th>reference_mz</th>\n      <th>reference_adduct</th>\n      <th>reference_name</th>\n      <th>comment</th>\n      <th>reference_smiles</th>\n      <th>reference_formula</th>\n      <th>reference_mix</th>\n      <th>reference_rt</th>\n      <th>rt_apex</th>\n      <th>rt_start</th>\n      <th>rt_end</th>\n      <th>ms1_intensity</th>\n      <th>n_scnas</th>\n      <th>ms1_scan_range</th>\n      <th>reci_snr</th>\n      <th>msms_raw</th>\n      <th>msms_denoised</th>\n      <th>eis</th>\n    </tr>\n  </thead>\n  <tbody>\n    <tr>\n      <th>0</th>\n      <td>334.107549</td>\n      <td>334.107384</td>\n      <td>[M]+</td>\n      <td>Corysamine chloride</td>\n      <td>Major</td>\n      <td>Cc1c2[n+](cc3c4c(ccc13)OCO4)CCc1cc3c(cc1-2)OCO3</td>\n      <td>C20H16NO4+</td>\n      <td>Alkaloids-pos-mix36</td>\n      <td>[2.65]</td>\n      <td>2.929062</td>\n      <td>2.783462</td>\n      <td>3.208477</td>\n      <td>2.016058e+06</td>\n      <td>99</td>\n      <td>[621, 655, 720]</td>\n      <td>0.076761</td>\n      <td>[[56.30818176269531, 2288.141357421875], [57.9...</td>\n      <td>[[147.06844, 3502.8186], [183.06822, 2424.9194...</td>\n      <td>0.943289</td>\n    </tr>\n    <tr>\n      <th>1</th>\n      <td>274.143980</td>\n      <td>274.143770</td>\n      <td>[M+H]+</td>\n      <td>O-Desmethyl Galanthamine</td>\n      <td>Major</td>\n      <td>CN1CC[C@@]23C=C[C@H](O)C[C@@H]2Oc2c(O)ccc(c23)C1</td>\n      <td>C16H19NO3</td>\n      <td>Alkaloids-pos-mix36</td>\n      <td>[0.614]</td>\n      <td>0.287160</td>\n      <td>0.265899</td>\n      <td>0.401500</td>\n      <td>2.217606e+08</td>\n      <td>30</td>\n      <td>[57, 62, 87]</td>\n      <td>0.003775</td>\n      <td>[[53.94699478149414, 96795.8984375], [54.27227...</td>\n      <td>[[55.01821, 3981169.5], [56.049965, 194752.25]...</td>\n      <td>0.987049</td>\n    </tr>\n    <tr>\n      <th>2</th>\n      <td>274.144001</td>\n      <td>274.143770</td>\n      <td>[M+H]+</td>\n      <td>O-Desmethyl Galanthamine</td>\n      <td>isomer</td>\n      <td>CN1CC[C@@]23C=C[C@H](O)C[C@@H]2Oc2c(O)ccc(c23)C1</td>\n      <td>C16H19NO3</td>\n      <td>Alkaloids-pos-mix36</td>\n      <td>[0.614]</td>\n      <td>0.497357</td>\n      <td>0.401500</td>\n      <td>1.101001</td>\n      <td>6.357372e+07</td>\n      <td>155</td>\n      <td>[87, 108, 242]</td>\n      <td>0.015060</td>\n      <td>[[51.57713317871094, 40101.56640625], [52.0643...</td>\n      <td>[[52.0644, 35199.492], [53.03904, 41803.594], ...</td>\n      <td>0.988530</td>\n    </tr>\n    <tr>\n      <th>3</th>\n      <td>204.065827</td>\n      <td>204.065520</td>\n      <td>[M+H]+</td>\n      <td>(S)-N-Glycidylphthalimide</td>\n      <td>Major</td>\n      <td>O=C1c2ccccc2C(=O)N1C[C@H]1CO1</td>\n      <td>C11H9NO3</td>\n      <td>Alkaloids-pos-mix36</td>\n      <td>[0.349, 0.494, 1.331, 2.736]</td>\n      <td>2.778339</td>\n      <td>2.731876</td>\n      <td>2.880609</td>\n      <td>1.396332e+06</td>\n      <td>35</td>\n      <td>[609, 618, 644]</td>\n      <td>0.004567</td>\n      <td>[[52.02421188354492, 2055.7265625], [52.748348...</td>\n      <td>[[57.033825, 12029.836], [68.04973, 1856.6376]...</td>\n      <td>0.831456</td>\n    </tr>\n    <tr>\n      <th>4</th>\n      <td>314.138864</td>\n      <td>314.138685</td>\n      <td>[M+H]+</td>\n      <td>N-Caffeoyl O-methyltyramine</td>\n      <td>Major</td>\n      <td>COc1ccc(CCNC(=O)/C=C/c2ccc(O)c(O)c2)cc1</td>\n      <td>C18H19NO4</td>\n      <td>Alkaloids-pos-mix36</td>\n      <td>[3.295]</td>\n      <td>3.351300</td>\n      <td>3.316474</td>\n      <td>5.209335</td>\n      <td>1.513644e+08</td>\n      <td>445</td>\n      <td>[745, 753, 1190]</td>\n      <td>0.001220</td>\n      <td>[[51.023555755615234, 148312.28125], [53.03898...</td>\n      <td>[[51.023556, 148312.28], [53.038982, 955552.75...</td>\n      <td>0.998624</td>\n    </tr>\n    <tr>\n      <th>5</th>\n      <td>314.139038</td>\n      <td>314.138685</td>\n      <td>[M+H]+</td>\n      <td>N-Caffeoyl O-methyltyramine</td>\n      <td>isomer</td>\n      <td>COc1ccc(CCNC(=O)/C=C/c2ccc(O)c(O)c2)cc1</td>\n      <td>C18H19NO4</td>\n      <td>Alkaloids-pos-mix36</td>\n      <td>[3.295]</td>\n      <td>3.237095</td>\n      <td>3.199917</td>\n      <td>3.316474</td>\n      <td>9.064387e+06</td>\n      <td>27</td>\n      <td>[718, 727, 745]</td>\n      <td>0.013155</td>\n      <td>[[50.909420013427734, 6878.41259765625], [53.0...</td>\n      <td>[[53.039024, 35530.535], [67.00711, 6144.63], ...</td>\n      <td>0.991744</td>\n    </tr>\n    <tr>\n      <th>6</th>\n      <td>336.120809</td>\n      <td>336.120629</td>\n      <td>[M+Na]+</td>\n      <td>N-Caffeoyl O-methyltyramine</td>\n      <td>Major</td>\n      <td>COc1ccc(CCNC(=O)/C=C/c2ccc(O)c(O)c2)cc1</td>\n      <td>C18H19NO4</td>\n      <td>Alkaloids-pos-mix36</td>\n      <td>[3.295]</td>\n      <td>3.351197</td>\n      <td>3.307479</td>\n      <td>3.832477</td>\n      <td>7.224760e+06</td>\n      <td>122</td>\n      <td>[743, 753, 865]</td>\n      <td>0.052365</td>\n      <td>[[66.93482971191406, 4202.83935546875], [74.23...</td>\n      <td>[[120.08098, 5459.9424], [336.12057, 192536.66...</td>\n      <td>0.114705</td>\n    </tr>\n    <tr>\n      <th>7</th>\n      <td>244.169886</td>\n      <td>244.169591</td>\n      <td>[M+H]+</td>\n      <td>HHQ</td>\n      <td>Major</td>\n      <td>CCCCCCCc1cc(=O)c2ccccc2[nH]1</td>\n      <td>C16H21NO</td>\n      <td>Alkaloids-pos-mix36</td>\n      <td>[3.904]</td>\n      <td>3.968365</td>\n      <td>3.921462</td>\n      <td>5.926747</td>\n      <td>1.423948e+09</td>\n      <td>474</td>\n      <td>[885, 896, 1359]</td>\n      <td>0.000446</td>\n      <td>[[61.03971481323242, 6524025.5], [61.043678283...</td>\n      <td>[[61.039715, 6524025.5], [61.04368, 5183808.5]...</td>\n      <td>0.984561</td>\n    </tr>\n    <tr>\n      <th>8</th>\n      <td>282.148998</td>\n      <td>282.148855</td>\n      <td>[M+H]+</td>\n      <td>Lirinidine</td>\n      <td>Major</td>\n      <td>COc1cc2c3c(c1O)-c1ccccc1C[C@@H]3N(C)CC2</td>\n      <td>C18H19NO2</td>\n      <td>Alkaloids-pos-mix36</td>\n      <td>[2.562]</td>\n      <td>2.618446</td>\n      <td>2.548259</td>\n      <td>3.972599</td>\n      <td>4.072063e+08</td>\n      <td>331</td>\n      <td>[566, 582, 897]</td>\n      <td>0.004043</td>\n      <td>[[54.76835632324219, 477882.65625], [54.770915...</td>\n      <td>[[152.06248, 376667.5], [165.07005, 6857049.0]...</td>\n      <td>0.982773</td>\n    </tr>\n    <tr>\n      <th>9</th>\n      <td>282.149186</td>\n      <td>282.148855</td>\n      <td>[M+H]+</td>\n      <td>Lirinidine</td>\n      <td>isomer</td>\n      <td>COc1cc2c3c(c1O)-c1ccccc1C[C@@H]3N(C)CC2</td>\n      <td>C18H19NO2</td>\n      <td>Alkaloids-pos-mix36</td>\n      <td>[2.562]</td>\n      <td>9.499718</td>\n      <td>9.381663</td>\n      <td>9.550547</td>\n      <td>4.117510e+05</td>\n      <td>40</td>\n      <td>[2173, 2202, 2213]</td>\n      <td>0.020907</td>\n      <td>[[62.982261657714844, 1963.0230712890625], [77...</td>\n      <td>[[62.98226, 1963.0231], [165.07034, 5075.481],...</td>\n      <td>0.956554</td>\n    </tr>\n    <tr>\n      <th>10</th>\n      <td>182.081307</td>\n      <td>182.081170</td>\n      <td>[M+H]+</td>\n      <td>DL-Tyrosine</td>\n      <td>Major</td>\n      <td>NC(Cc1ccc(O)cc1)C(=O)O</td>\n      <td>C9H11NO3</td>\n      <td>Alkaloids-pos-mix36</td>\n      <td>[0.348, 0.497]</td>\n      <td>0.286625</td>\n      <td>0.265899</td>\n      <td>0.347276</td>\n      <td>1.136892e+09</td>\n      <td>18</td>\n      <td>[57, 62, 75]</td>\n      <td>0.000331</td>\n      <td>[[52.19691848754883, 303031.46875], [53.039058...</td>\n      <td>[[53.03906, 2495202.0], [65.03869, 2850189.5],...</td>\n      <td>0.993165</td>\n    </tr>\n    <tr>\n      <th>11</th>\n      <td>182.081333</td>\n      <td>182.081170</td>\n      <td>[M+H]+</td>\n      <td>DL-Tyrosine</td>\n      <td>isomer</td>\n      <td>NC(Cc1ccc(O)cc1)C(=O)O</td>\n      <td>C9H11NO3</td>\n      <td>Alkaloids-pos-mix36</td>\n      <td>[0.348, 0.497]</td>\n      <td>0.428784</td>\n      <td>0.347276</td>\n      <td>1.363347</td>\n      <td>2.372578e+08</td>\n      <td>226</td>\n      <td>[75, 93, 301]</td>\n      <td>0.001226</td>\n      <td>[[53.03883361816406, 197756.6875], [60.0190658...</td>\n      <td>[[53.038834, 197756.69], [60.019066, 115246.19...</td>\n      <td>0.996808</td>\n    </tr>\n    <tr>\n      <th>12</th>\n      <td>204.063259</td>\n      <td>204.063114</td>\n      <td>[M+Na]+</td>\n      <td>DL-Tyrosine</td>\n      <td>Major</td>\n      <td>NC(Cc1ccc(O)cc1)C(=O)O</td>\n      <td>C9H11NO3</td>\n      <td>Alkaloids-pos-mix36</td>\n      <td>[0.348, 0.497]</td>\n      <td>0.283446</td>\n      <td>0.265899</td>\n      <td>0.327211</td>\n      <td>4.384846e+06</td>\n      <td>14</td>\n      <td>[57, 62, 71]</td>\n      <td>0.006159</td>\n      <td>[[61.01840591430664, 2213.07373046875], [70.01...</td>\n      <td>[[61.018406, 2213.0737], [70.01548, 2452.457],...</td>\n      <td>0.460727</td>\n    </tr>\n    <tr>\n      <th>13</th>\n      <td>325.191203</td>\n      <td>325.191054</td>\n      <td>[M+H]+</td>\n      <td>Viquidil hydrochloride</td>\n      <td>Major</td>\n      <td>C=C[C@H]1CNCC[C@H]1CCC(=O)c1ccnc2ccc(OC)cc12</td>\n      <td>C20H24N2O2</td>\n      <td>Alkaloids-pos-mix36</td>\n      <td>[2.65]</td>\n      <td>2.704458</td>\n      <td>2.613884</td>\n      <td>3.363703</td>\n      <td>1.280043e+08</td>\n      <td>175</td>\n      <td>[581, 603, 756]</td>\n      <td>0.010073</td>\n      <td>[[53.0389518737793, 98317.9140625], [54.627002...</td>\n      <td>[[53.03895, 98317.914], [55.054478, 330577.47]...</td>\n      <td>0.996267</td>\n    </tr>\n    <tr>\n      <th>14</th>\n      <td>325.191264</td>\n      <td>325.191054</td>\n      <td>[M+H]+</td>\n      <td>Viquidil hydrochloride</td>\n      <td>isomer</td>\n      <td>C=C[C@H]1CNCC[C@H]1CCC(=O)c1ccnc2ccc(OC)cc12</td>\n      <td>C20H24N2O2</td>\n      <td>Alkaloids-pos-mix36</td>\n      <td>[2.65]</td>\n      <td>9.508483</td>\n      <td>9.398592</td>\n      <td>9.558124</td>\n      <td>1.229338e+06</td>\n      <td>38</td>\n      <td>[2177, 2203, 2215]</td>\n      <td>0.000013</td>\n      <td>[[55.05463790893555, 2784.016357421875], [64.4...</td>\n      <td>[[55.054638, 2784.0164], [67.05436, 11183.548]...</td>\n      <td>0.964385</td>\n    </tr>\n  </tbody>\n</table>\n</div>"
     },
     "execution_count": 48,
     "metadata": {},
     "output_type": "execute_result"
    }
   ],
   "source": [
    "matched_high_quality"
   ],
   "metadata": {
    "collapsed": false,
    "pycharm": {
     "name": "#%%\n"
    }
   }
  },
  {
   "cell_type": "code",
   "execution_count": 45,
   "outputs": [],
   "source": [
    "# matched_high_quality is the ones with good explianed intensity,\n",
    "# matched all are the features as long as the ms1 matches\n",
    "# most times we only care about matched_high_quality"
   ],
   "metadata": {
    "collapsed": false,
    "pycharm": {
     "name": "#%%\n"
    }
   }
  },
  {
   "cell_type": "markdown",
   "source": [
    "# step 3 export library"
   ],
   "metadata": {
    "collapsed": false,
    "pycharm": {
     "name": "#%% md\n"
    }
   }
  },
  {
   "cell_type": "code",
   "execution_count": 54,
   "outputs": [
    {
     "name": "stderr",
     "output_type": "stream",
     "text": [
      "100%|██████████| 15/15 [00:00<00:00, 1489.00it/s]\n"
     ]
    }
   ],
   "source": [
    "from toolsets.file_io import export_library_msp\n",
    "export_library_msp(matched_high_quality, output_location=os.path.join(library_dir, 'library.txt'), typeofmsms='msms_denoised')"
   ],
   "metadata": {
    "collapsed": false,
    "pycharm": {
     "name": "#%%\n"
    }
   }
  },
  {
   "cell_type": "markdown",
   "source": [],
   "metadata": {
    "collapsed": false,
    "pycharm": {
     "name": "#%% md\n"
    }
   }
  }
 ],
 "metadata": {
  "kernelspec": {
   "name": "alphapept_env",
   "language": "python",
   "display_name": "alphapept_env"
  },
  "language_info": {
   "codemirror_mode": {
    "name": "ipython",
    "version": 2
   },
   "file_extension": ".py",
   "mimetype": "text/x-python",
   "name": "python",
   "nbconvert_exporter": "python",
   "pygments_lexer": "ipython2",
   "version": "2.7.6"
  }
 },
 "nbformat": 4,
 "nbformat_minor": 0
}