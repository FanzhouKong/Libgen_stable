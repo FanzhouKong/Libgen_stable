{
 "cells": [
  {
   "cell_type": "code",
   "execution_count": 1,
   "outputs": [],
   "source": [
    "import os\n",
    "import pandas as pd\n",
    "from tqdm import tqdm\n",
    "import numpy as np\n",
    "%load_ext autoreload\n",
    "%autoreload 2"
   ],
   "metadata": {
    "collapsed": false,
    "pycharm": {
     "name": "#%%\n"
    }
   }
  },
  {
   "cell_type": "markdown",
   "source": [
    "# step 0 define workingspace"
   ],
   "metadata": {
    "collapsed": false,
    "pycharm": {
     "name": "#%% md\n"
    }
   }
  },
  {
   "cell_type": "code",
   "execution_count": 2,
   "outputs": [],
   "source": [
    "master_dir = '/Users/fanzhoukong/Documents/GitHub/Libgen_data/HILIC_EAD'\n",
    "# mzml_dir, feature_dir, library_dir = setup_workspace(master_dir)\n",
    "mzml_dir = os.path.join(master_dir, 'mzml')\n",
    "feature_dir = os.path.join(master_dir, 'features')\n",
    "library_dir = os.path.join(master_dir, 'library')\n",
    "# mzml_dir, feature_dir, library_dir = setup_workspace(master_dir)"
   ],
   "metadata": {
    "collapsed": false,
    "pycharm": {
     "name": "#%%\n"
    }
   }
  },
  {
   "cell_type": "markdown",
   "source": [
    "# step 1 prepare the standard list"
   ],
   "metadata": {
    "collapsed": false,
    "pycharm": {
     "name": "#%% md\n"
    }
   }
  },
  {
   "cell_type": "code",
   "execution_count": 3,
   "outputs": [],
   "source": [
    "from toolsets.std_list_prep import get_clean_std_list, complete_adducts"
   ],
   "metadata": {
    "collapsed": false,
    "pycharm": {
     "name": "#%%\n"
    }
   }
  },
  {
   "cell_type": "code",
   "execution_count": 4,
   "outputs": [],
   "source": [
    "std_list = pd.read_csv(os.path.join(master_dir, 'std_list.csv'))"
   ],
   "metadata": {
    "collapsed": false,
    "pycharm": {
     "name": "#%%\n"
    }
   }
  },
  {
   "cell_type": "code",
   "execution_count": 5,
   "outputs": [
    {
     "data": {
      "text/plain": "                                        name                     inchikey  \\\n0                           Lithocholic acid  SMEROWZSTRWXGI-HVATVPOCSA-N   \n1                          α-Muricholic acid  DKPMWHFRUGMUKF-JDDNAIEOSA-N   \n2                      Glycolithocholic acid  XBSQTYHEGZTYJE-OETIFKLTSA-N   \n3                 Glycochenodeoxycholic acid  GHCZAUBVMUEKKP-GYPHWSFCSA-N   \n4                           Glycocholic acid  RFDAIACWWDREDC-FRVQLJSFSA-N   \n...                                      ...                          ...   \n1469  Nicotinamide Hypoxanthine Dinucleotide  DGVSIBCCYUVRNA-NNYOXOHSSA-O   \n1470                           Norspermidine  OTBHHUPVCYLGQO-UHFFFAOYSA-N   \n1471                      Palmitoylcarnitine  XOMRRQXKHMYMOC-OAQYLSRUSA-N   \n1472                    S-Adenosylmethionine  MEFKEPWMEQBLKI-AIRLBKTGSA-O   \n1473                    Uridine Triphosphate  PGAVKCOVUIYSFO-XVFCMESISA-N   \n\n               mix                                     smiles_fetched  \n0     Bile acids 1     CC(CCC(=O)O)C1CCC2C1(CCC3C2CCC4C3(CCC(C4)O)C)C  \n1     Bile acids 1  CC(CCC(=O)O)C1CCC2C1(CCC3C2C(C(C4C3(CCC(C4)O)C...  \n2     Bile acids 1  CC(CCC(=O)NCC(=O)O)C1CCC2C1(CCC3C2CCC4C3(CCC(C...  \n3     Bile acids 1  CC(CCC(=O)NCC(=O)O)C1CCC2C1(CCC3C2C(CC4C3(CCC(...  \n4     Bile acids 1  CC(CCC(=O)NCC(=O)O)C1CCC2C1(C(CC3C2C(CC4C3(CCC...  \n...            ...                                                ...  \n1469       MSMLS 9  C1=CC(=C[N+](=C1)C2C(C(C(O2)COP(=O)(O)OP(=O)(O...  \n1470       MSMLS 9                                        C(CN)CNCCCN  \n1471       MSMLS 9     CCCCCCCCCCCCCCCC(=O)OC(CC(=O)[O-])C[N+](C)(C)C  \n1472       MSMLS 9  C[S+](CCC(C(=O)O)N)CC1C(C(C(O1)N2C=NC3=C(N=CN=...  \n1473       MSMLS 9  C1=CN(C(=O)NC1=O)C2C(C(C(O2)COP(=O)(O)OP(=O)(O...  \n\n[1474 rows x 4 columns]",
      "text/html": "<div>\n<style scoped>\n    .dataframe tbody tr th:only-of-type {\n        vertical-align: middle;\n    }\n\n    .dataframe tbody tr th {\n        vertical-align: top;\n    }\n\n    .dataframe thead th {\n        text-align: right;\n    }\n</style>\n<table border=\"1\" class=\"dataframe\">\n  <thead>\n    <tr style=\"text-align: right;\">\n      <th></th>\n      <th>name</th>\n      <th>inchikey</th>\n      <th>mix</th>\n      <th>smiles_fetched</th>\n    </tr>\n  </thead>\n  <tbody>\n    <tr>\n      <th>0</th>\n      <td>Lithocholic acid</td>\n      <td>SMEROWZSTRWXGI-HVATVPOCSA-N</td>\n      <td>Bile acids 1</td>\n      <td>CC(CCC(=O)O)C1CCC2C1(CCC3C2CCC4C3(CCC(C4)O)C)C</td>\n    </tr>\n    <tr>\n      <th>1</th>\n      <td>α-Muricholic acid</td>\n      <td>DKPMWHFRUGMUKF-JDDNAIEOSA-N</td>\n      <td>Bile acids 1</td>\n      <td>CC(CCC(=O)O)C1CCC2C1(CCC3C2C(C(C4C3(CCC(C4)O)C...</td>\n    </tr>\n    <tr>\n      <th>2</th>\n      <td>Glycolithocholic acid</td>\n      <td>XBSQTYHEGZTYJE-OETIFKLTSA-N</td>\n      <td>Bile acids 1</td>\n      <td>CC(CCC(=O)NCC(=O)O)C1CCC2C1(CCC3C2CCC4C3(CCC(C...</td>\n    </tr>\n    <tr>\n      <th>3</th>\n      <td>Glycochenodeoxycholic acid</td>\n      <td>GHCZAUBVMUEKKP-GYPHWSFCSA-N</td>\n      <td>Bile acids 1</td>\n      <td>CC(CCC(=O)NCC(=O)O)C1CCC2C1(CCC3C2C(CC4C3(CCC(...</td>\n    </tr>\n    <tr>\n      <th>4</th>\n      <td>Glycocholic acid</td>\n      <td>RFDAIACWWDREDC-FRVQLJSFSA-N</td>\n      <td>Bile acids 1</td>\n      <td>CC(CCC(=O)NCC(=O)O)C1CCC2C1(C(CC3C2C(CC4C3(CCC...</td>\n    </tr>\n    <tr>\n      <th>...</th>\n      <td>...</td>\n      <td>...</td>\n      <td>...</td>\n      <td>...</td>\n    </tr>\n    <tr>\n      <th>1469</th>\n      <td>Nicotinamide Hypoxanthine Dinucleotide</td>\n      <td>DGVSIBCCYUVRNA-NNYOXOHSSA-O</td>\n      <td>MSMLS 9</td>\n      <td>C1=CC(=C[N+](=C1)C2C(C(C(O2)COP(=O)(O)OP(=O)(O...</td>\n    </tr>\n    <tr>\n      <th>1470</th>\n      <td>Norspermidine</td>\n      <td>OTBHHUPVCYLGQO-UHFFFAOYSA-N</td>\n      <td>MSMLS 9</td>\n      <td>C(CN)CNCCCN</td>\n    </tr>\n    <tr>\n      <th>1471</th>\n      <td>Palmitoylcarnitine</td>\n      <td>XOMRRQXKHMYMOC-OAQYLSRUSA-N</td>\n      <td>MSMLS 9</td>\n      <td>CCCCCCCCCCCCCCCC(=O)OC(CC(=O)[O-])C[N+](C)(C)C</td>\n    </tr>\n    <tr>\n      <th>1472</th>\n      <td>S-Adenosylmethionine</td>\n      <td>MEFKEPWMEQBLKI-AIRLBKTGSA-O</td>\n      <td>MSMLS 9</td>\n      <td>C[S+](CCC(C(=O)O)N)CC1C(C(C(O1)N2C=NC3=C(N=CN=...</td>\n    </tr>\n    <tr>\n      <th>1473</th>\n      <td>Uridine Triphosphate</td>\n      <td>PGAVKCOVUIYSFO-XVFCMESISA-N</td>\n      <td>MSMLS 9</td>\n      <td>C1=CN(C(=O)NC1=O)C2C(C(C(O2)COP(=O)(O)OP(=O)(O...</td>\n    </tr>\n  </tbody>\n</table>\n<p>1474 rows × 4 columns</p>\n</div>"
     },
     "execution_count": 5,
     "metadata": {},
     "output_type": "execute_result"
    }
   ],
   "source": [
    "std_list"
   ],
   "metadata": {
    "collapsed": false,
    "pycharm": {
     "name": "#%%\n"
    }
   }
  },
  {
   "cell_type": "code",
   "execution_count": 59,
   "outputs": [],
   "source": [
    "# get smiles from inchikey/name, it is recommended to prepare smiles in advance as API servies is not very reliable\n",
    "std_list_cleaned  = get_clean_std_list(std_list)"
   ],
   "metadata": {
    "collapsed": false,
    "pycharm": {
     "name": "#%%\n"
    }
   }
  },
  {
   "cell_type": "code",
   "execution_count": 72,
   "outputs": [],
   "source": [
    "# get adduct info, recommended to split pos/neg in different processing\n",
    "# complete list of adducts supported can be found in constants.py\n",
    "std_list_cleaned = complete_adducts(std_list_cleaned, adducts=['[M+H]+', '[M]+','[M+Na]+','[M+NH4]+'])"
   ],
   "metadata": {
    "collapsed": false,
    "pycharm": {
     "name": "#%%\n"
    }
   }
  },
  {
   "cell_type": "code",
   "execution_count": 73,
   "outputs": [
    {
     "data": {
      "text/plain": "                                        name                     inchikey  \\\n0                           Lithocholic acid  SMEROWZSTRWXGI-HVATVPOCSA-N   \n1                          α-Muricholic acid  DKPMWHFRUGMUKF-JDDNAIEOSA-N   \n2                      Glycolithocholic acid  XBSQTYHEGZTYJE-OETIFKLTSA-N   \n3                 Glycochenodeoxycholic acid  GHCZAUBVMUEKKP-GYPHWSFCSA-N   \n4                           Glycocholic acid  RFDAIACWWDREDC-FRVQLJSFSA-N   \n...                                      ...                          ...   \n1469  Nicotinamide Hypoxanthine Dinucleotide  DGVSIBCCYUVRNA-NNYOXOHSSA-O   \n1470                           Norspermidine  OTBHHUPVCYLGQO-UHFFFAOYSA-N   \n1471                      Palmitoylcarnitine  XOMRRQXKHMYMOC-OAQYLSRUSA-N   \n1472                    S-Adenosylmethionine  MEFKEPWMEQBLKI-AIRLBKTGSA-O   \n1473                    Uridine Triphosphate  PGAVKCOVUIYSFO-XVFCMESISA-N   \n\n               mix                                             smiles  \\\n0     Bile acids 1       CC(CCC(=O)O)C1CCC2C3CCC4CC(O)CCC4(C)C3CCC12C   \n1     Bile acids 1  CC(CCC(=O)O)C1CCC2C3C(O)C(O)C4CC(O)CCC4(C)C3CC...   \n2     Bile acids 1  CC(CCC(=O)NCC(=O)O)C1CCC2C3CCC4CC(O)CCC4(C)C3C...   \n3     Bile acids 1  CC(CCC(=O)NCC(=O)O)C1CCC2C3C(O)CC4CC(O)CCC4(C)...   \n4     Bile acids 1  CC(CCC(=O)NCC(=O)O)C1CCC2C3C(O)CC4CC(O)CCC4(C)...   \n...            ...                                                ...   \n1469       MSMLS 9  NC(=O)c1ccc[n+](C2OC(COP(=O)(O)OP(=O)(O)OCC3OC...   \n1470       MSMLS 9                                          NCCCNCCCN   \n1471       MSMLS 9     CCCCCCCCCCCCCCCC(=O)OC(CC(=O)[O-])C[N+](C)(C)C   \n1472       MSMLS 9  C[S+](CCC(N)C(=O)O)CC1OC(n2cnc3c(N)ncnc32)C(O)C1O   \n1473       MSMLS 9  O=c1ccn(C2OC(COP(=O)(O)OP(=O)(O)OP(=O)(O)O)C(O...   \n\n             formula   mono_mass  formal_charges      [M+H]+        [M]+  \\\n0           C24H40O3  376.297745               0  377.305021    0.000000   \n1           C24H40O5  408.287574               0  409.294850    0.000000   \n2          C26H43NO4  433.319209               0  434.326485    0.000000   \n3          C26H43NO5  449.314123               0  450.321399    0.000000   \n4          C26H43NO6  465.309038               0  466.316314    0.000000   \n...              ...         ...             ...         ...         ...   \n1469  C21H27N6O15P2+  665.100414               1    0.000000  665.100414   \n1470         C6H17N3  131.142248               0  132.149523    0.000000   \n1471       C23H45NO4  399.334859               0  400.342135    0.000000   \n1472    C15H23N6O5S+  399.144515               1    0.000000  399.144515   \n1473    C9H15N2O15P3  483.968528               0  484.975804    0.000000   \n\n         [M+Na]+    [M+NH4]+  \n0     399.286963  394.331568  \n1     431.276792  426.321397  \n2     456.308427  451.353032  \n3     472.303341  467.347946  \n4     488.298256  483.342861  \n...          ...         ...  \n1469    0.000000    0.000000  \n1470  154.131465  149.176071  \n1471  422.324077  417.368682  \n1472    0.000000    0.000000  \n1473  506.957746  502.002351  \n\n[1474 rows x 11 columns]",
      "text/html": "<div>\n<style scoped>\n    .dataframe tbody tr th:only-of-type {\n        vertical-align: middle;\n    }\n\n    .dataframe tbody tr th {\n        vertical-align: top;\n    }\n\n    .dataframe thead th {\n        text-align: right;\n    }\n</style>\n<table border=\"1\" class=\"dataframe\">\n  <thead>\n    <tr style=\"text-align: right;\">\n      <th></th>\n      <th>name</th>\n      <th>inchikey</th>\n      <th>mix</th>\n      <th>smiles</th>\n      <th>formula</th>\n      <th>mono_mass</th>\n      <th>formal_charges</th>\n      <th>[M+H]+</th>\n      <th>[M]+</th>\n      <th>[M+Na]+</th>\n      <th>[M+NH4]+</th>\n    </tr>\n  </thead>\n  <tbody>\n    <tr>\n      <th>0</th>\n      <td>Lithocholic acid</td>\n      <td>SMEROWZSTRWXGI-HVATVPOCSA-N</td>\n      <td>Bile acids 1</td>\n      <td>CC(CCC(=O)O)C1CCC2C3CCC4CC(O)CCC4(C)C3CCC12C</td>\n      <td>C24H40O3</td>\n      <td>376.297745</td>\n      <td>0</td>\n      <td>377.305021</td>\n      <td>0.000000</td>\n      <td>399.286963</td>\n      <td>394.331568</td>\n    </tr>\n    <tr>\n      <th>1</th>\n      <td>α-Muricholic acid</td>\n      <td>DKPMWHFRUGMUKF-JDDNAIEOSA-N</td>\n      <td>Bile acids 1</td>\n      <td>CC(CCC(=O)O)C1CCC2C3C(O)C(O)C4CC(O)CCC4(C)C3CC...</td>\n      <td>C24H40O5</td>\n      <td>408.287574</td>\n      <td>0</td>\n      <td>409.294850</td>\n      <td>0.000000</td>\n      <td>431.276792</td>\n      <td>426.321397</td>\n    </tr>\n    <tr>\n      <th>2</th>\n      <td>Glycolithocholic acid</td>\n      <td>XBSQTYHEGZTYJE-OETIFKLTSA-N</td>\n      <td>Bile acids 1</td>\n      <td>CC(CCC(=O)NCC(=O)O)C1CCC2C3CCC4CC(O)CCC4(C)C3C...</td>\n      <td>C26H43NO4</td>\n      <td>433.319209</td>\n      <td>0</td>\n      <td>434.326485</td>\n      <td>0.000000</td>\n      <td>456.308427</td>\n      <td>451.353032</td>\n    </tr>\n    <tr>\n      <th>3</th>\n      <td>Glycochenodeoxycholic acid</td>\n      <td>GHCZAUBVMUEKKP-GYPHWSFCSA-N</td>\n      <td>Bile acids 1</td>\n      <td>CC(CCC(=O)NCC(=O)O)C1CCC2C3C(O)CC4CC(O)CCC4(C)...</td>\n      <td>C26H43NO5</td>\n      <td>449.314123</td>\n      <td>0</td>\n      <td>450.321399</td>\n      <td>0.000000</td>\n      <td>472.303341</td>\n      <td>467.347946</td>\n    </tr>\n    <tr>\n      <th>4</th>\n      <td>Glycocholic acid</td>\n      <td>RFDAIACWWDREDC-FRVQLJSFSA-N</td>\n      <td>Bile acids 1</td>\n      <td>CC(CCC(=O)NCC(=O)O)C1CCC2C3C(O)CC4CC(O)CCC4(C)...</td>\n      <td>C26H43NO6</td>\n      <td>465.309038</td>\n      <td>0</td>\n      <td>466.316314</td>\n      <td>0.000000</td>\n      <td>488.298256</td>\n      <td>483.342861</td>\n    </tr>\n    <tr>\n      <th>...</th>\n      <td>...</td>\n      <td>...</td>\n      <td>...</td>\n      <td>...</td>\n      <td>...</td>\n      <td>...</td>\n      <td>...</td>\n      <td>...</td>\n      <td>...</td>\n      <td>...</td>\n      <td>...</td>\n    </tr>\n    <tr>\n      <th>1469</th>\n      <td>Nicotinamide Hypoxanthine Dinucleotide</td>\n      <td>DGVSIBCCYUVRNA-NNYOXOHSSA-O</td>\n      <td>MSMLS 9</td>\n      <td>NC(=O)c1ccc[n+](C2OC(COP(=O)(O)OP(=O)(O)OCC3OC...</td>\n      <td>C21H27N6O15P2+</td>\n      <td>665.100414</td>\n      <td>1</td>\n      <td>0.000000</td>\n      <td>665.100414</td>\n      <td>0.000000</td>\n      <td>0.000000</td>\n    </tr>\n    <tr>\n      <th>1470</th>\n      <td>Norspermidine</td>\n      <td>OTBHHUPVCYLGQO-UHFFFAOYSA-N</td>\n      <td>MSMLS 9</td>\n      <td>NCCCNCCCN</td>\n      <td>C6H17N3</td>\n      <td>131.142248</td>\n      <td>0</td>\n      <td>132.149523</td>\n      <td>0.000000</td>\n      <td>154.131465</td>\n      <td>149.176071</td>\n    </tr>\n    <tr>\n      <th>1471</th>\n      <td>Palmitoylcarnitine</td>\n      <td>XOMRRQXKHMYMOC-OAQYLSRUSA-N</td>\n      <td>MSMLS 9</td>\n      <td>CCCCCCCCCCCCCCCC(=O)OC(CC(=O)[O-])C[N+](C)(C)C</td>\n      <td>C23H45NO4</td>\n      <td>399.334859</td>\n      <td>0</td>\n      <td>400.342135</td>\n      <td>0.000000</td>\n      <td>422.324077</td>\n      <td>417.368682</td>\n    </tr>\n    <tr>\n      <th>1472</th>\n      <td>S-Adenosylmethionine</td>\n      <td>MEFKEPWMEQBLKI-AIRLBKTGSA-O</td>\n      <td>MSMLS 9</td>\n      <td>C[S+](CCC(N)C(=O)O)CC1OC(n2cnc3c(N)ncnc32)C(O)C1O</td>\n      <td>C15H23N6O5S+</td>\n      <td>399.144515</td>\n      <td>1</td>\n      <td>0.000000</td>\n      <td>399.144515</td>\n      <td>0.000000</td>\n      <td>0.000000</td>\n    </tr>\n    <tr>\n      <th>1473</th>\n      <td>Uridine Triphosphate</td>\n      <td>PGAVKCOVUIYSFO-XVFCMESISA-N</td>\n      <td>MSMLS 9</td>\n      <td>O=c1ccn(C2OC(COP(=O)(O)OP(=O)(O)OP(=O)(O)O)C(O...</td>\n      <td>C9H15N2O15P3</td>\n      <td>483.968528</td>\n      <td>0</td>\n      <td>484.975804</td>\n      <td>0.000000</td>\n      <td>506.957746</td>\n      <td>502.002351</td>\n    </tr>\n  </tbody>\n</table>\n<p>1474 rows × 11 columns</p>\n</div>"
     },
     "execution_count": 73,
     "metadata": {},
     "output_type": "execute_result"
    }
   ],
   "source": [
    "std_list_cleaned"
   ],
   "metadata": {
    "collapsed": false,
    "pycharm": {
     "name": "#%%\n"
    }
   }
  },
  {
   "cell_type": "code",
   "execution_count": 93,
   "outputs": [],
   "source": [
    "std_list_cleaned.to_csv(os.path.join(master_dir, 'std_list_cleaned.csv'), index=False)# always save before proceed is a good idea"
   ],
   "metadata": {
    "collapsed": false,
    "pycharm": {
     "name": "#%%\n"
    }
   }
  },
  {
   "cell_type": "markdown",
   "source": [
    "# step 2 extract features"
   ],
   "metadata": {
    "collapsed": false,
    "pycharm": {
     "name": "#%% md\n"
    }
   }
  },
  {
   "cell_type": "code",
   "execution_count": 94,
   "outputs": [],
   "source": [
    "from toolsets.helpers import find_files\n",
    "from toolsets.ff_droup import feature_finding, process_mzml"
   ],
   "metadata": {
    "collapsed": false,
    "pycharm": {
     "name": "#%%\n"
    }
   }
  },
  {
   "cell_type": "code",
   "execution_count": 101,
   "outputs": [
    {
     "name": "stderr",
     "output_type": "stream",
     "text": [
      "100%|██████████| 77/77 [26:13<00:00, 20.44s/it]\n"
     ]
    }
   ],
   "source": [
    "features_all = pd.DataFrame()\n",
    "for mix in tqdm(std_list_cleaned['mix'].unique()):\n",
    "    mzml_file =find_files(mzml_dir, mix)\n",
    "    ms1, ms2 = process_mzml(mzml_path=mzml_file, parent_dir=mzml_dir, rt_max=20)# make sure to include rt max to cap the processing time\n",
    "    features = feature_finding(ms1, ms2)\n",
    "    features_all = pd.concat([features_all, features], axis=0, ignore_index=True)\n",
    "\n",
    "features_all = features_all[features_all['snr']>3] # this is filtering out low SNR features, 3 is a good value of courtesy but you can change it if you like\n",
    "\n",
    "features_all.reset_index(inplace=True, drop = True)\n",
    "features_all.to_csv(os.path.join(feature_dir, 'features_all.csv'), index = False)"
   ],
   "metadata": {
    "collapsed": false,
    "pycharm": {
     "name": "#%%\n"
    }
   }
  },
  {
   "cell_type": "markdown",
   "source": [
    "# step 3 making matches"
   ],
   "metadata": {
    "collapsed": false,
    "pycharm": {
     "name": "#%% md\n"
    }
   }
  },
  {
   "cell_type": "code",
   "execution_count": 8,
   "outputs": [],
   "source": [
    "from toolsets.precursor_matching import precursor_matching_dataframe"
   ],
   "metadata": {
    "collapsed": false,
    "pycharm": {
     "name": "#%%\n"
    }
   }
  },
  {
   "cell_type": "code",
   "execution_count": 9,
   "outputs": [
    {
     "name": "stderr",
     "output_type": "stream",
     "text": [
      "100%|██████████| 77/77 [00:01<00:00, 67.22it/s] \n"
     ]
    },
    {
     "name": "stdout",
     "output_type": "stream",
     "text": [
      "i have that much spectra before cleaninig: 1313\n",
      "i have that much compounds before cleaning: 751\n"
     ]
    },
    {
     "name": "stderr",
     "output_type": "stream",
     "text": [
      "100%|██████████| 1313/1313 [00:33<00:00, 38.95it/s]\n"
     ]
    }
   ],
   "source": [
    "matched = precursor_matching_dataframe(features_all, std_list_cleaned, mode='weighted')\n",
    "# it is recommended to use 'max' for almost all mass spectrometry, which select the msms based on the highest intensity ms1 scan\n",
    "# but for EAD people thinks it fragments molecules slightly different at different time due to the presence of ZENO tof, so weighted average msms is used if multiple msms are found under peak\n",
    "# toggle 'mode' between 'weighted' and 'max' to change msms acquisition"
   ],
   "metadata": {
    "collapsed": false,
    "pycharm": {
     "name": "#%%\n"
    }
   }
  },
  {
   "cell_type": "markdown",
   "source": [
    "# step 4 depreplication"
   ],
   "metadata": {
    "collapsed": false,
    "pycharm": {
     "name": "#%% md\n"
    }
   }
  },
  {
   "cell_type": "code",
   "execution_count": 11,
   "outputs": [
    {
     "name": "stderr",
     "output_type": "stream",
     "text": [
      "100%|██████████| 751/751 [00:13<00:00, 55.30it/s] \n"
     ]
    }
   ],
   "source": [
    "from toolsets.deduplication import deduplication, add_comment_retained\n",
    "matched_dereplicated = deduplication(matched)"
   ],
   "metadata": {
    "collapsed": false,
    "pycharm": {
     "name": "#%%\n"
    }
   }
  },
  {
   "cell_type": "markdown",
   "source": [
    "# step 5 Recalibration"
   ],
   "metadata": {
    "collapsed": false,
    "pycharm": {
     "name": "#%% md\n"
    }
   }
  },
  {
   "cell_type": "code",
   "execution_count": null,
   "outputs": [],
   "source": [
    "# this step is very optional, as modern mass spectrometry has really good mass accuracy and usually mass error within couple mDa is negligible in matching msms spectra"
   ],
   "metadata": {
    "collapsed": false,
    "pycharm": {
     "name": "#%%\n"
    }
   }
  },
  {
   "cell_type": "code",
   "execution_count": 212,
   "outputs": [],
   "source": [
    "from toolsets.mass_recalibration import data_recalibrated"
   ],
   "metadata": {
    "collapsed": false,
    "pycharm": {
     "name": "#%%\n"
    }
   }
  },
  {
   "cell_type": "code",
   "execution_count": 213,
   "outputs": [
    {
     "name": "stderr",
     "output_type": "stream",
     "text": [
      "100%|██████████| 71/71 [20:38<00:00, 17.45s/it]\n"
     ]
    }
   ],
   "source": [
    "matched_recalibrated = data_recalibrated(matched_dereplicated)"
   ],
   "metadata": {
    "collapsed": false,
    "pycharm": {
     "name": "#%%\n"
    }
   }
  },
  {
   "cell_type": "code",
   "execution_count": 220,
   "outputs": [
    {
     "data": {
      "text/plain": "    reference_adduct  reference_precursor_mz  \\\n695          [M+Na]+              431.276792   \n696           [M+H]+              232.154334   \n694          [M+Na]+              425.338999   \n703          [M+Na]+              437.375384   \n692           [M+H]+              431.315586   \n..               ...                     ...   \n669          [M+Na]+              360.133002   \n670           [M+H]+              296.102967   \n671           [M+H]+              379.123959   \n674           [M+H]+              341.197202   \n668           [M+H]+              338.151060   \n\n                                 reference_name           reference_inchikey  \\\n695                  Beta-Muricholic acid_major  DKPMWHFRUGMUKF-CRKPLTDNSA-N   \n696                     Butanoylcarnitine_major  QWYFHHGCZUCMBN-UHFFFAOYSA-N   \n694                 7β-Hydroxycholesterol_major  OYXZMSRRJOYLLO-KGZHIOMZSA-N   \n703                          β-Sitosterol_major  KZJWDPNRJALLNS-VJSFXXLFSA-N   \n692  7α-hydroxy-3-oxo-4-cholestenoic acid_major  SATGKQGFUDXGAX-MYWFJNCASA-N   \n..                                          ...                          ...   \n669                             Linezolid_major  TYZROVQLWOKYKF-ZDUSSCGKSA-N   \n670                           Mebendazole_major  OPXLLQIJSORQAM-UHFFFAOYSA-N   \n671                            Mefloquine_major  XEEQGYMUWCZPDN-DOMZBBRYSA-N   \n674                           Pentamidine_major  XDRYMKDFEDOLFX-UHFFFAOYSA-N   \n668                             Linezolid_major  TYZROVQLWOKYKF-ZDUSSCGKSA-N   \n\n    reference_mix                                   reference_smiles  \\\n695     BACSMLS 1  CC(CCC(=O)O)C1CCC2C3C(O)C(O)C4CC(O)CCC4(C)C3CC...   \n696     BACSMLS 1                 CCCC(=O)OC(CC(=O)[O-])C[N+](C)(C)C   \n694     BACSMLS 1   CC(C)CCCC(C)C1CCC2C3C(O)C=C4CC(O)CCC4(C)C3CCC12C   \n703     BACSMLS 1  CCC(CCC(C)C1CCC2C3CC=C4CC(O)CCC4(C)C3CCC12C)C(C)C   \n692     BACSMLS 1  CC(CCCC(C)C1CCC2C3C(O)CC4=CC(=O)CCC4(C)C3CCC12...   \n..            ...                                                ...   \n669    Pathogen 1         CC(=O)NCC1CN(c2ccc(N3CCOCC3)c(F)c2)C(=O)O1   \n670    Pathogen 1            COC(=O)Nc1nc2ccc(C(=O)c3ccccc3)cc2[nH]1   \n671    Pathogen 1     OC(c1cc(C(F)(F)F)nc2c(C(F)(F)F)cccc12)C1CCCCN1   \n674    Pathogen 1            N=C(N)c1ccc(OCCCCCOc2ccc(C(=N)N)cc2)cc1   \n668    Pathogen 1         CC(=O)NCC1CN(c2ccc(N3CCOCC3)c(F)c2)C(=O)O1   \n\n    reference_formula  reference_mono_mass  reference_formal_charges  \\\n695          C24H40O5           408.287574                       0.0   \n696         C11H21NO4           231.147058                       0.0   \n694          C27H46O2           402.349781                       0.0   \n703           C29H50O           414.386166                       0.0   \n692          C27H42O4           430.308310                       0.0   \n..                ...                  ...                       ...   \n669       C16H20FN3O4           337.143784                       0.0   \n670        C16H13N3O3           295.095691                       0.0   \n671       C17H16F6N2O           378.116682                       0.0   \n674        C19H24N4O2           340.189926                       0.0   \n668       C16H20FN3O4           337.143784                       0.0   \n\n     ms_level  ...        ms2_range_idx     pmz_bin  mz_offset  \\\n695       2.0  ...                 [94]  431.277390   0.000598   \n696       2.0  ...      [482, 489, 497]  232.154524   0.000205   \n694       2.0  ...                 [92]  425.336964   0.002034   \n703       2.0  ...                 [80]  437.372708   0.002676   \n692       2.0  ...             [76, 83]  431.315196   0.000446   \n..        ...  ...                  ...         ...        ...   \n669       2.0  ...            [92, 110]  360.133062   0.000059   \n670       2.0  ...  [82, 103, 118, 134]  296.102950   0.000028   \n671       2.0  ...                [121]  379.124291   0.000332   \n674       2.0  ...                [572]  341.197141   0.000061   \n668       2.0  ...            [91, 109]  338.151183   0.000097   \n\n    recovery_percent(%)                                              peaks  \\\n695                45.0  50.01610315414359\\t0.0037231071988937056\\n51.0...   \n696                45.0  50.0151828606141\\t4.845063345189995e-05\\n50.95...   \n694                45.0  50.01460518613113\\t0.002978174867760146\\n51.02...   \n703                45.0  50.01493783950905\\t0.003047720892928753\\n51.02...   \n692                45.0  50.01532749376878\\t0.0004231660858351019\\n51.0...   \n..                  ...                                                ...   \n669                62.5  50.01468957560824\\t0.004052680891454635\\n51.02...   \n670                62.5  50.015689079742415\\t2.986483184126578e-05\\n51....   \n671                62.5  139.04694848946082\\t0.00034177931736701755\\n14...   \n674                62.5  50.01499441673669\\t0.003351602023608769\\n51.02...   \n668                62.5  50.01470300908545\\t0.00022643141685920593\\n51....   \n\n     spectral_entropy  library_id  seed_intensity  comments  \\\n695          4.661963       868.0    2.400730e+03       NaN   \n696          2.651069       869.0    1.041400e+07       NaN   \n694          4.601049       867.0    1.407637e+04       NaN   \n703          4.371007       877.0    2.898797e+03       NaN   \n692          4.588027       865.0    4.102317e+06       NaN   \n..                ...         ...             ...       ...   \n669          4.164588       837.0    3.182406e+04       NaN   \n670          3.276229       838.0    1.131946e+06       NaN   \n671          3.772653       840.0    4.376858e+05       NaN   \n674          3.358963       844.0    8.781088e+04       NaN   \n668          4.214247       836.0    1.722337e+06       NaN   \n\n                                    peaks_recalibrated  \n695  50.01630926553632\\t0.0037231071988937056\\n51.0...  \n696  50.01450746561164\\t4.845063345189995e-05\\n50.9...  \n694  50.015869116558974\\t0.002978174867760146\\n51.0...  \n703  50.01618898582053\\t0.003047720892928753\\n51.02...  \n692  50.015796743236834\\t0.0004231660858351019\\n51....  \n..                                                 ...  \n669  50.01439957979872\\t0.004052680891454635\\n51.02...  \n670  50.015333559392296\\t2.986483184126578e-05\\n51....  \n671  139.04653164880312\\t0.00034177931736701755\\n14...  \n674  50.0149605560665\\t0.003351602023608769\\n51.023...  \n668  50.0143375714138\\t0.00022643141685920593\\n51.0...  \n\n[1073 rows x 33 columns]",
      "text/html": "<div>\n<style scoped>\n    .dataframe tbody tr th:only-of-type {\n        vertical-align: middle;\n    }\n\n    .dataframe tbody tr th {\n        vertical-align: top;\n    }\n\n    .dataframe thead th {\n        text-align: right;\n    }\n</style>\n<table border=\"1\" class=\"dataframe\">\n  <thead>\n    <tr style=\"text-align: right;\">\n      <th></th>\n      <th>reference_adduct</th>\n      <th>reference_precursor_mz</th>\n      <th>reference_name</th>\n      <th>reference_inchikey</th>\n      <th>reference_mix</th>\n      <th>reference_smiles</th>\n      <th>reference_formula</th>\n      <th>reference_mono_mass</th>\n      <th>reference_formal_charges</th>\n      <th>ms_level</th>\n      <th>...</th>\n      <th>ms2_range_idx</th>\n      <th>pmz_bin</th>\n      <th>mz_offset</th>\n      <th>recovery_percent(%)</th>\n      <th>peaks</th>\n      <th>spectral_entropy</th>\n      <th>library_id</th>\n      <th>seed_intensity</th>\n      <th>comments</th>\n      <th>peaks_recalibrated</th>\n    </tr>\n  </thead>\n  <tbody>\n    <tr>\n      <th>695</th>\n      <td>[M+Na]+</td>\n      <td>431.276792</td>\n      <td>Beta-Muricholic acid_major</td>\n      <td>DKPMWHFRUGMUKF-CRKPLTDNSA-N</td>\n      <td>BACSMLS 1</td>\n      <td>CC(CCC(=O)O)C1CCC2C3C(O)C(O)C4CC(O)CCC4(C)C3CC...</td>\n      <td>C24H40O5</td>\n      <td>408.287574</td>\n      <td>0.0</td>\n      <td>2.0</td>\n      <td>...</td>\n      <td>[94]</td>\n      <td>431.277390</td>\n      <td>0.000598</td>\n      <td>45.0</td>\n      <td>50.01610315414359\\t0.0037231071988937056\\n51.0...</td>\n      <td>4.661963</td>\n      <td>868.0</td>\n      <td>2.400730e+03</td>\n      <td>NaN</td>\n      <td>50.01630926553632\\t0.0037231071988937056\\n51.0...</td>\n    </tr>\n    <tr>\n      <th>696</th>\n      <td>[M+H]+</td>\n      <td>232.154334</td>\n      <td>Butanoylcarnitine_major</td>\n      <td>QWYFHHGCZUCMBN-UHFFFAOYSA-N</td>\n      <td>BACSMLS 1</td>\n      <td>CCCC(=O)OC(CC(=O)[O-])C[N+](C)(C)C</td>\n      <td>C11H21NO4</td>\n      <td>231.147058</td>\n      <td>0.0</td>\n      <td>2.0</td>\n      <td>...</td>\n      <td>[482, 489, 497]</td>\n      <td>232.154524</td>\n      <td>0.000205</td>\n      <td>45.0</td>\n      <td>50.0151828606141\\t4.845063345189995e-05\\n50.95...</td>\n      <td>2.651069</td>\n      <td>869.0</td>\n      <td>1.041400e+07</td>\n      <td>NaN</td>\n      <td>50.01450746561164\\t4.845063345189995e-05\\n50.9...</td>\n    </tr>\n    <tr>\n      <th>694</th>\n      <td>[M+Na]+</td>\n      <td>425.338999</td>\n      <td>7β-Hydroxycholesterol_major</td>\n      <td>OYXZMSRRJOYLLO-KGZHIOMZSA-N</td>\n      <td>BACSMLS 1</td>\n      <td>CC(C)CCCC(C)C1CCC2C3C(O)C=C4CC(O)CCC4(C)C3CCC12C</td>\n      <td>C27H46O2</td>\n      <td>402.349781</td>\n      <td>0.0</td>\n      <td>2.0</td>\n      <td>...</td>\n      <td>[92]</td>\n      <td>425.336964</td>\n      <td>0.002034</td>\n      <td>45.0</td>\n      <td>50.01460518613113\\t0.002978174867760146\\n51.02...</td>\n      <td>4.601049</td>\n      <td>867.0</td>\n      <td>1.407637e+04</td>\n      <td>NaN</td>\n      <td>50.015869116558974\\t0.002978174867760146\\n51.0...</td>\n    </tr>\n    <tr>\n      <th>703</th>\n      <td>[M+Na]+</td>\n      <td>437.375384</td>\n      <td>β-Sitosterol_major</td>\n      <td>KZJWDPNRJALLNS-VJSFXXLFSA-N</td>\n      <td>BACSMLS 1</td>\n      <td>CCC(CCC(C)C1CCC2C3CC=C4CC(O)CCC4(C)C3CCC12C)C(C)C</td>\n      <td>C29H50O</td>\n      <td>414.386166</td>\n      <td>0.0</td>\n      <td>2.0</td>\n      <td>...</td>\n      <td>[80]</td>\n      <td>437.372708</td>\n      <td>0.002676</td>\n      <td>45.0</td>\n      <td>50.01493783950905\\t0.003047720892928753\\n51.02...</td>\n      <td>4.371007</td>\n      <td>877.0</td>\n      <td>2.898797e+03</td>\n      <td>NaN</td>\n      <td>50.01618898582053\\t0.003047720892928753\\n51.02...</td>\n    </tr>\n    <tr>\n      <th>692</th>\n      <td>[M+H]+</td>\n      <td>431.315586</td>\n      <td>7α-hydroxy-3-oxo-4-cholestenoic acid_major</td>\n      <td>SATGKQGFUDXGAX-MYWFJNCASA-N</td>\n      <td>BACSMLS 1</td>\n      <td>CC(CCCC(C)C1CCC2C3C(O)CC4=CC(=O)CCC4(C)C3CCC12...</td>\n      <td>C27H42O4</td>\n      <td>430.308310</td>\n      <td>0.0</td>\n      <td>2.0</td>\n      <td>...</td>\n      <td>[76, 83]</td>\n      <td>431.315196</td>\n      <td>0.000446</td>\n      <td>45.0</td>\n      <td>50.01532749376878\\t0.0004231660858351019\\n51.0...</td>\n      <td>4.588027</td>\n      <td>865.0</td>\n      <td>4.102317e+06</td>\n      <td>NaN</td>\n      <td>50.015796743236834\\t0.0004231660858351019\\n51....</td>\n    </tr>\n    <tr>\n      <th>...</th>\n      <td>...</td>\n      <td>...</td>\n      <td>...</td>\n      <td>...</td>\n      <td>...</td>\n      <td>...</td>\n      <td>...</td>\n      <td>...</td>\n      <td>...</td>\n      <td>...</td>\n      <td>...</td>\n      <td>...</td>\n      <td>...</td>\n      <td>...</td>\n      <td>...</td>\n      <td>...</td>\n      <td>...</td>\n      <td>...</td>\n      <td>...</td>\n      <td>...</td>\n      <td>...</td>\n    </tr>\n    <tr>\n      <th>669</th>\n      <td>[M+Na]+</td>\n      <td>360.133002</td>\n      <td>Linezolid_major</td>\n      <td>TYZROVQLWOKYKF-ZDUSSCGKSA-N</td>\n      <td>Pathogen 1</td>\n      <td>CC(=O)NCC1CN(c2ccc(N3CCOCC3)c(F)c2)C(=O)O1</td>\n      <td>C16H20FN3O4</td>\n      <td>337.143784</td>\n      <td>0.0</td>\n      <td>2.0</td>\n      <td>...</td>\n      <td>[92, 110]</td>\n      <td>360.133062</td>\n      <td>0.000059</td>\n      <td>62.5</td>\n      <td>50.01468957560824\\t0.004052680891454635\\n51.02...</td>\n      <td>4.164588</td>\n      <td>837.0</td>\n      <td>3.182406e+04</td>\n      <td>NaN</td>\n      <td>50.01439957979872\\t0.004052680891454635\\n51.02...</td>\n    </tr>\n    <tr>\n      <th>670</th>\n      <td>[M+H]+</td>\n      <td>296.102967</td>\n      <td>Mebendazole_major</td>\n      <td>OPXLLQIJSORQAM-UHFFFAOYSA-N</td>\n      <td>Pathogen 1</td>\n      <td>COC(=O)Nc1nc2ccc(C(=O)c3ccccc3)cc2[nH]1</td>\n      <td>C16H13N3O3</td>\n      <td>295.095691</td>\n      <td>0.0</td>\n      <td>2.0</td>\n      <td>...</td>\n      <td>[82, 103, 118, 134]</td>\n      <td>296.102950</td>\n      <td>0.000028</td>\n      <td>62.5</td>\n      <td>50.015689079742415\\t2.986483184126578e-05\\n51....</td>\n      <td>3.276229</td>\n      <td>838.0</td>\n      <td>1.131946e+06</td>\n      <td>NaN</td>\n      <td>50.015333559392296\\t2.986483184126578e-05\\n51....</td>\n    </tr>\n    <tr>\n      <th>671</th>\n      <td>[M+H]+</td>\n      <td>379.123959</td>\n      <td>Mefloquine_major</td>\n      <td>XEEQGYMUWCZPDN-DOMZBBRYSA-N</td>\n      <td>Pathogen 1</td>\n      <td>OC(c1cc(C(F)(F)F)nc2c(C(F)(F)F)cccc12)C1CCCCN1</td>\n      <td>C17H16F6N2O</td>\n      <td>378.116682</td>\n      <td>0.0</td>\n      <td>2.0</td>\n      <td>...</td>\n      <td>[121]</td>\n      <td>379.124291</td>\n      <td>0.000332</td>\n      <td>62.5</td>\n      <td>139.04694848946082\\t0.00034177931736701755\\n14...</td>\n      <td>3.772653</td>\n      <td>840.0</td>\n      <td>4.376858e+05</td>\n      <td>NaN</td>\n      <td>139.04653164880312\\t0.00034177931736701755\\n14...</td>\n    </tr>\n    <tr>\n      <th>674</th>\n      <td>[M+H]+</td>\n      <td>341.197202</td>\n      <td>Pentamidine_major</td>\n      <td>XDRYMKDFEDOLFX-UHFFFAOYSA-N</td>\n      <td>Pathogen 1</td>\n      <td>N=C(N)c1ccc(OCCCCCOc2ccc(C(=N)N)cc2)cc1</td>\n      <td>C19H24N4O2</td>\n      <td>340.189926</td>\n      <td>0.0</td>\n      <td>2.0</td>\n      <td>...</td>\n      <td>[572]</td>\n      <td>341.197141</td>\n      <td>0.000061</td>\n      <td>62.5</td>\n      <td>50.01499441673669\\t0.003351602023608769\\n51.02...</td>\n      <td>3.358963</td>\n      <td>844.0</td>\n      <td>8.781088e+04</td>\n      <td>NaN</td>\n      <td>50.0149605560665\\t0.003351602023608769\\n51.023...</td>\n    </tr>\n    <tr>\n      <th>668</th>\n      <td>[M+H]+</td>\n      <td>338.151060</td>\n      <td>Linezolid_major</td>\n      <td>TYZROVQLWOKYKF-ZDUSSCGKSA-N</td>\n      <td>Pathogen 1</td>\n      <td>CC(=O)NCC1CN(c2ccc(N3CCOCC3)c(F)c2)C(=O)O1</td>\n      <td>C16H20FN3O4</td>\n      <td>337.143784</td>\n      <td>0.0</td>\n      <td>2.0</td>\n      <td>...</td>\n      <td>[91, 109]</td>\n      <td>338.151183</td>\n      <td>0.000097</td>\n      <td>62.5</td>\n      <td>50.01470300908545\\t0.00022643141685920593\\n51....</td>\n      <td>4.214247</td>\n      <td>836.0</td>\n      <td>1.722337e+06</td>\n      <td>NaN</td>\n      <td>50.0143375714138\\t0.00022643141685920593\\n51.0...</td>\n    </tr>\n  </tbody>\n</table>\n<p>1073 rows × 33 columns</p>\n</div>"
     },
     "execution_count": 220,
     "metadata": {},
     "output_type": "execute_result"
    }
   ],
   "source": [
    "matched_recalibrated"
   ],
   "metadata": {
    "collapsed": false,
    "pycharm": {
     "name": "#%%\n"
    }
   }
  },
  {
   "cell_type": "markdown",
   "source": [
    "# Step 6 spectra denoising"
   ],
   "metadata": {
    "collapsed": false,
    "pycharm": {
     "name": "#%% md\n"
    }
   }
  },
  {
   "cell_type": "code",
   "execution_count": 4,
   "outputs": [],
   "source": [
    "reference_db_sorted = pd.read_csv('db/formulaDB_sorted.csv')\n",
    "\n"
   ],
   "metadata": {
    "collapsed": false,
    "pycharm": {
     "name": "#%%\n"
    }
   }
  },
  {
   "cell_type": "code",
   "execution_count": 5,
   "outputs": [],
   "source": [
    "from toolsets.denoising_related_functions import denoise_df"
   ],
   "metadata": {
    "collapsed": false,
    "pycharm": {
     "name": "#%%\n"
    }
   }
  },
  {
   "cell_type": "code",
   "execution_count": null,
   "outputs": [],
   "source": [
    "# if you did denoised the items, please put 'msms_col' to 'peaks_recalibrated'"
   ],
   "metadata": {
    "collapsed": false,
    "pycharm": {
     "name": "#%%\n"
    }
   }
  },
  {
   "cell_type": "markdown",
   "source": [],
   "metadata": {
    "collapsed": false,
    "pycharm": {
     "name": "#%% md\n"
    }
   }
  },
  {
   "cell_type": "code",
   "execution_count": 12,
   "outputs": [
    {
     "name": "stderr",
     "output_type": "stream",
     "text": [
      "100%|██████████| 1073/1073 [20:43<00:00,  1.16s/it] \n"
     ]
    }
   ],
   "source": [
    "matched_denoised = denoise_df(matched_dereplicated, reference_db_sorted, msms_col='peaks')"
   ],
   "metadata": {
    "collapsed": false,
    "pycharm": {
     "name": "#%%\n"
    }
   }
  },
  {
   "cell_type": "code",
   "execution_count": 14,
   "outputs": [],
   "source": [
    "library_good_quality = matched_denoised[matched_denoised['ei']>90]# only explained intensity greater than 90 is considered"
   ],
   "metadata": {
    "collapsed": false,
    "pycharm": {
     "name": "#%%\n"
    }
   }
  },
  {
   "cell_type": "markdown",
   "source": [
    "# Step 7 export library in msp"
   ],
   "metadata": {
    "collapsed": false,
    "pycharm": {
     "name": "#%% md\n"
    }
   }
  },
  {
   "cell_type": "code",
   "execution_count": 15,
   "outputs": [],
   "source": [
    "from toolsets.file_io import export_library_msp"
   ],
   "metadata": {
    "collapsed": false,
    "pycharm": {
     "name": "#%%\n"
    }
   }
  },
  {
   "cell_type": "code",
   "execution_count": 18,
   "outputs": [
    {
     "name": "stderr",
     "output_type": "stream",
     "text": [
      "100%|██████████| 850/850 [00:16<00:00, 51.52it/s]  \n"
     ]
    }
   ],
   "source": [
    "export_library_msp(library_good_quality, os.path.join(os.path.join(library_dir, 'EAD_HILIC.msp')), typeofmsms='peaks_denoised')"
   ],
   "metadata": {
    "collapsed": false,
    "pycharm": {
     "name": "#%%\n"
    }
   }
  },
  {
   "cell_type": "markdown",
   "source": [],
   "metadata": {
    "collapsed": false,
    "pycharm": {
     "name": "#%% md\n"
    }
   }
  }
 ],
 "metadata": {
  "kernelspec": {
   "name": "alphapept_env",
   "language": "python",
   "display_name": "alphapept_env"
  },
  "language_info": {
   "codemirror_mode": {
    "name": "ipython",
    "version": 2
   },
   "file_extension": ".py",
   "mimetype": "text/x-python",
   "name": "python",
   "nbconvert_exporter": "python",
   "pygments_lexer": "ipython2",
   "version": "2.7.6"
  }
 },
 "nbformat": 4,
 "nbformat_minor": 0
}