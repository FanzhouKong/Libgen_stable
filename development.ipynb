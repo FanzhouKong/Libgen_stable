{
 "cells": [
  {
   "cell_type": "code",
   "execution_count": 1,
   "metadata": {
    "collapsed": true,
    "pycharm": {
     "name": "#%%\n"
    }
   },
   "outputs": [],
   "source": [
    "import os\n",
    "workspace_parent_dir = '/Users/fanzhoukong/Downloads/'\n",
    "library_name = 'test'\n",
    "workspace_dir = os.path.join(workspace_parent_dir, library_name)\n",
    "existance_status = os.path.exists(workspace_dir)\n",
    "if existance_status==False:\n",
    "    os.mkdir(workspace_dir)\n",
    "    os.chdir(workspace_dir)\n",
    "    subdirs = ['standard_list','spectra', 'features', 'curated_library', 'figures']\n",
    "    for sub in subdirs:\n",
    "        if os.path.exists(sub)==False:\n",
    "            os.makedirs(sub)\n",
    "        else:\n",
    "            print('the workspace has been created')\n",
    "            continue\n",
    "else:\n",
    "    os.chdir(workspace_dir)\n",
    "    print('the workspace is built')\n",
    "\n",
    "\n",
    "print('workspace_dir')"
   ]
  }
 ],
 "metadata": {
  "kernelspec": {
   "name": "alphapept_env",
   "language": "python",
   "display_name": "alphapept_env"
  },
  "language_info": {
   "codemirror_mode": {
    "name": "ipython",
    "version": 2
   },
   "file_extension": ".py",
   "mimetype": "text/x-python",
   "name": "python",
   "nbconvert_exporter": "python",
   "pygments_lexer": "ipython2",
   "version": "2.7.6"
  }
 },
 "nbformat": 4,
 "nbformat_minor": 0
}